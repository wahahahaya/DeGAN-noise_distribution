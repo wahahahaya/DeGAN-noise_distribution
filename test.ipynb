{
 "cells": [
  {
   "cell_type": "code",
   "execution_count": 25,
   "metadata": {},
   "outputs": [],
   "source": [
    "import torchvision.transforms as transforms\n",
    "from torchvision.utils import save_image, make_grid\n",
    "\n",
    "from torch.utils.data import DataLoader\n",
    "from torchvision import datasets\n",
    "from torch.autograd import Variable\n",
    "\n",
    "import torch.nn as nn\n",
    "import torch.nn.functional as F\n",
    "import torch\n",
    "\n",
    "from my_resunet import unet\n",
    "from torch_unet import UNet\n",
    "import data\n",
    "\n",
    "import os\n",
    "import numpy as np\n",
    "import math\n",
    "import itertools\n",
    "from imgaug import augmenters as iaa"
   ]
  },
  {
   "cell_type": "code",
   "execution_count": 26,
   "metadata": {},
   "outputs": [],
   "source": [
    "device = \"cuda\" if torch.cuda.is_available() else \"cpu\""
   ]
  },
  {
   "cell_type": "code",
   "execution_count": 27,
   "metadata": {},
   "outputs": [
    {
     "data": {
      "text/plain": "<All keys matched successfully>"
     },
     "execution_count": 27,
     "metadata": {},
     "output_type": "execute_result"
    }
   ],
   "source": [
    "net = unet().to(device)\n",
    "net.load_state_dict(torch.load(\"saved_mymodel_bce/model_tooth_399.pth\"))"
   ]
  },
  {
   "cell_type": "code",
   "execution_count": 28,
   "metadata": {},
   "outputs": [],
   "source": [
    "root = \"../../dataset/opg-decomp-pilot/\""
   ]
  },
  {
   "cell_type": "code",
   "execution_count": 29,
   "metadata": {},
   "outputs": [],
   "source": [
    "tfs = transforms.Compose([\n",
    "    iaa.Sequential([\n",
    "        #iaa.Multiply(mul=0.00392156862),\n",
    "        #iaa.LinearContrast(alpha=(0.5, 1.5)),\n",
    "        #iaa.Multiply(mul=(0.7, 1.3)),\n",
    "        #iaa.Affine(scale=(0.8, 1.2), rotate=(-10, 10), shear=(-10, 10)),\n",
    "        #iaa.ElasticTransformation(alpha=(0, 100), sigma=10),\n",
    "        #iaa.GaussianBlur(sigma=(0.0, 5.0)),\n",
    "        #iaa.Cutout(size=0.1),\n",
    "        iaa.Resize(size={'height': 192, 'width': 512}),\n",
    "        #iaa.PadToFixedSize(height=192, width=512),\n",
    "        #iaa.CropToFixedSize(height=192, width=512),\n",
    "    ]).augment_image,\n",
    "    transforms.ToTensor()\n",
    "])"
   ]
  },
  {
   "cell_type": "code",
   "execution_count": 30,
   "metadata": {},
   "outputs": [],
   "source": [
    "custom_ds = data.CustomDataset(root, transform=tfs)\n",
    "custom_dl = DataLoader(custom_ds, batch_size=1,\n",
    "            num_workers=34, pin_memory=True)"
   ]
  },
  {
   "cell_type": "code",
   "execution_count": 34,
   "metadata": {},
   "outputs": [],
   "source": [
    "sigmoid = nn.Sigmoid()\n",
    "for i, batch in enumerate(custom_dl):\n",
    "    net.eval()\n",
    "    input = batch[\"row\"].to(device)\n",
    "    mask = batch[\"tooth\"].to(device)\n",
    "    output_prob = sigmoid(net(input))\n",
    "    #output_prob_ths = (output_prob>0.5)*1.0\n",
    "\n",
    "    img_input = make_grid(input)\n",
    "    img_output_prob = make_grid(output_prob)\n",
    "    #img_output_prob_ths = make_grid(output_prob_ths)\n",
    "    img_mask = make_grid(mask)\n",
    "\n",
    "\n",
    "    image_grid = torch.cat((img_input, img_output_prob, img_mask), 1)\n",
    "    save_image(image_grid, \"test_img/%s.png\" %(i), normalize=False)\n",
    "    break\n"
   ]
  },
  {
   "cell_type": "code",
   "execution_count": null,
   "metadata": {},
   "outputs": [],
   "source": []
  }
 ],
 "metadata": {
  "kernelspec": {
   "display_name": "Python 3.6.9 64-bit ('opg': venv)",
   "name": "python369jvsc74a57bd06ab53c4a1af93eea4d700cae28169b28c489b9f6e83117ee573d4c2b15a8c2ad"
  },
  "language_info": {
   "codemirror_mode": {
    "name": "ipython",
    "version": 3
   },
   "file_extension": ".py",
   "mimetype": "text/x-python",
   "name": "python",
   "nbconvert_exporter": "python",
   "pygments_lexer": "ipython3",
   "version": "3.6.9"
  },
  "orig_nbformat": 2
 },
 "nbformat": 4,
 "nbformat_minor": 2
}